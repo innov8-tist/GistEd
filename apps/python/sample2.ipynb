{
 "cells": [
  {
   "cell_type": "code",
   "execution_count": null,
   "metadata": {},
   "outputs": [
    {
     "name": "stdout",
     "output_type": "stream",
     "text": [
      "^C\n"
     ]
    }
   ],
   "source": []
  },
  {
   "cell_type": "code",
   "execution_count": null,
   "metadata": {},
   "outputs": [
    {
     "ename": "ImportError",
     "evalue": "cannot import name 'AGENT_DEPRECATION_WARNING' from 'langchain._api.deprecation' (c:\\Users\\Manu\\anaconda3\\Lib\\site-packages\\langchain\\_api\\deprecation.py)",
     "output_type": "error",
     "traceback": [
      "\u001b[1;31m---------------------------------------------------------------------------\u001b[0m",
      "\u001b[1;31mImportError\u001b[0m                               Traceback (most recent call last)",
      "Cell \u001b[1;32mIn[4], line 1\u001b[0m\n\u001b[1;32m----> 1\u001b[0m \u001b[38;5;28;01mfrom\u001b[39;00m \u001b[38;5;21;01mlangchain\u001b[39;00m\u001b[38;5;21;01m.\u001b[39;00m\u001b[38;5;21;01magents\u001b[39;00m \u001b[38;5;28;01mimport\u001b[39;00m initialize_agent, Tool\n",
      "File \u001b[1;32mc:\\Users\\Manu\\anaconda3\\Lib\\site-packages\\langchain\\agents\\__init__.py:40\u001b[0m\n\u001b[0;32m     35\u001b[0m \u001b[38;5;28;01mfrom\u001b[39;00m \u001b[38;5;21;01mlangchain_core\u001b[39;00m\u001b[38;5;21;01m.\u001b[39;00m\u001b[38;5;21;01mtools\u001b[39;00m \u001b[38;5;28;01mimport\u001b[39;00m Tool, tool\n\u001b[0;32m     37\u001b[0m \u001b[38;5;28;01mfrom\u001b[39;00m \u001b[38;5;21;01mlangchain\u001b[39;00m\u001b[38;5;21;01m.\u001b[39;00m\u001b[38;5;21;01m_api\u001b[39;00m \u001b[38;5;28;01mimport\u001b[39;00m create_importer\n\u001b[0;32m     38\u001b[0m \u001b[38;5;28;01mfrom\u001b[39;00m \u001b[38;5;21;01mlangchain\u001b[39;00m\u001b[38;5;21;01m.\u001b[39;00m\u001b[38;5;21;01magents\u001b[39;00m\u001b[38;5;21;01m.\u001b[39;00m\u001b[38;5;21;01magent\u001b[39;00m \u001b[38;5;28;01mimport\u001b[39;00m (\n\u001b[0;32m     39\u001b[0m     Agent,\n\u001b[1;32m---> 40\u001b[0m     AgentExecutor,\n\u001b[0;32m     41\u001b[0m     AgentOutputParser,\n\u001b[0;32m     42\u001b[0m     BaseMultiActionAgent,\n\u001b[0;32m     43\u001b[0m     BaseSingleActionAgent,\n\u001b[0;32m     44\u001b[0m     LLMSingleActionAgent,\n\u001b[0;32m     45\u001b[0m )\n\u001b[0;32m     46\u001b[0m \u001b[38;5;28;01mfrom\u001b[39;00m \u001b[38;5;21;01mlangchain\u001b[39;00m\u001b[38;5;21;01m.\u001b[39;00m\u001b[38;5;21;01magents\u001b[39;00m\u001b[38;5;21;01m.\u001b[39;00m\u001b[38;5;21;01magent_iterator\u001b[39;00m \u001b[38;5;28;01mimport\u001b[39;00m AgentExecutorIterator\n\u001b[0;32m     47\u001b[0m \u001b[38;5;28;01mfrom\u001b[39;00m \u001b[38;5;21;01mlangchain\u001b[39;00m\u001b[38;5;21;01m.\u001b[39;00m\u001b[38;5;21;01magents\u001b[39;00m\u001b[38;5;21;01m.\u001b[39;00m\u001b[38;5;21;01magent_toolkits\u001b[39;00m\u001b[38;5;21;01m.\u001b[39;00m\u001b[38;5;21;01mvectorstore\u001b[39;00m\u001b[38;5;21;01m.\u001b[39;00m\u001b[38;5;21;01mbase\u001b[39;00m \u001b[38;5;28;01mimport\u001b[39;00m (\n\u001b[0;32m     48\u001b[0m     create_vectorstore_agent,\n\u001b[0;32m     49\u001b[0m     create_vectorstore_router_agent,\n\u001b[0;32m     50\u001b[0m )\n",
      "File \u001b[1;32mc:\\Users\\Manu\\anaconda3\\Lib\\site-packages\\langchain\\agents\\agent.py:50\u001b[0m\n\u001b[0;32m     48\u001b[0m \u001b[38;5;28;01mfrom\u001b[39;00m \u001b[38;5;21;01mlangchain\u001b[39;00m\u001b[38;5;21;01m.\u001b[39;00m\u001b[38;5;21;01magents\u001b[39;00m\u001b[38;5;21;01m.\u001b[39;00m\u001b[38;5;21;01magent_types\u001b[39;00m \u001b[38;5;28;01mimport\u001b[39;00m AgentType\n\u001b[0;32m     49\u001b[0m \u001b[38;5;28;01mfrom\u001b[39;00m \u001b[38;5;21;01mlangchain\u001b[39;00m\u001b[38;5;21;01m.\u001b[39;00m\u001b[38;5;21;01magents\u001b[39;00m\u001b[38;5;21;01m.\u001b[39;00m\u001b[38;5;21;01mtools\u001b[39;00m \u001b[38;5;28;01mimport\u001b[39;00m InvalidTool\n\u001b[1;32m---> 50\u001b[0m \u001b[38;5;28;01mfrom\u001b[39;00m \u001b[38;5;21;01mlangchain\u001b[39;00m\u001b[38;5;21;01m.\u001b[39;00m\u001b[38;5;21;01mchains\u001b[39;00m\u001b[38;5;21;01m.\u001b[39;00m\u001b[38;5;21;01mbase\u001b[39;00m \u001b[38;5;28;01mimport\u001b[39;00m Chain\n\u001b[0;32m     51\u001b[0m \u001b[38;5;28;01mfrom\u001b[39;00m \u001b[38;5;21;01mlangchain\u001b[39;00m\u001b[38;5;21;01m.\u001b[39;00m\u001b[38;5;21;01mchains\u001b[39;00m\u001b[38;5;21;01m.\u001b[39;00m\u001b[38;5;21;01mllm\u001b[39;00m \u001b[38;5;28;01mimport\u001b[39;00m LLMChain\n\u001b[0;32m     52\u001b[0m \u001b[38;5;28;01mfrom\u001b[39;00m \u001b[38;5;21;01mlangchain\u001b[39;00m\u001b[38;5;21;01m.\u001b[39;00m\u001b[38;5;21;01mutilities\u001b[39;00m\u001b[38;5;21;01m.\u001b[39;00m\u001b[38;5;21;01masyncio\u001b[39;00m \u001b[38;5;28;01mimport\u001b[39;00m asyncio_timeout\n",
      "\u001b[1;31mImportError\u001b[0m: cannot import name 'AGENT_DEPRECATION_WARNING' from 'langchain._api.deprecation' (c:\\Users\\Manu\\anaconda3\\Lib\\site-packages\\langchain\\_api\\deprecation.py)"
     ]
    }
   ],
   "source": [
    "\n",
    "from langchain.tools import BaseTool\n",
    "from langchain.llms import OpenAI\n",
    "from langchain.chains import LLMChain\n",
    "from langchain.prompts import PromptTemplate\n",
    "from typing import List, Dict\n",
    "from langchain_together import ChatTogethe"
   ]
  },
  {
   "cell_type": "code",
   "execution_count": null,
   "metadata": {},
   "outputs": [],
   "source": [
    "# Initialize the LLM\n",
    "llm = ChatTogether(\n",
    "        api_key=\"5081cda228b7435ec59fb6a8ca3c40044d4b3a6c3941aa7e479add4fdd489984\",\n",
    "        model=\"google/gemma-2-27b-it\",\n",
    "    )\n",
    "\n",
    "# Step 1: Quiz Generation Tool\n",
    "class QuizGeneratorTool(BaseTool):\n",
    "    name = \"Quiz Generator\"\n",
    "    description = \"Generates a quiz based on a given topic and number of questions.\"\n",
    "\n",
    "    def _run(self, topic: str, num_questions: int = 5) -> List[Dict]:\n",
    "        prompt = PromptTemplate(\n",
    "            input_variables=[\"topic\", \"num_questions\"],\n",
    "            template=\"Generate {num_questions} quiz questions about {topic}. Each question should have 4 options and a correct answer. Format the output as a list of dictionaries with keys 'question', 'options', and 'answer'.\"\n",
    "        )\n",
    "        chain = LLMChain(llm=llm, prompt=prompt)\n",
    "        quiz = chain.run(topic=topic, num_questions=num_questions)\n",
    "        return eval(quiz)  # Convert the string output to a list of dictionaries\n",
    "\n",
    "    async def _arun(self, *args, **kwargs):\n",
    "        raise NotImplementedError(\"Async not supported\")\n",
    "\n",
    "# Step 2: Quiz Evaluation Tool\n",
    "class QuizEvaluatorTool(BaseTool):\n",
    "    name = \"Quiz Evaluator\"\n",
    "    description = \"Evaluates the user's answers to the quiz and provides feedback.\"\n",
    "\n",
    "    def _run(self, quiz: List[Dict], user_answers: List[int]) -> Dict:\n",
    "        score = 0\n",
    "        feedback = []\n",
    "        for i, q in enumerate(quiz):\n",
    "            if user_answers[i] == q['options'].index(q['answer']) + 1:\n",
    "                score += 1\n",
    "                feedback.append(f\"Question {i+1}: Correct! 🎉\")\n",
    "            else:\n",
    "                feedback.append(f\"Question {i+1}: Incorrect. The correct answer was: {q['answer']}\")\n",
    "        return {\"score\": score, \"feedback\": feedback}\n",
    "\n",
    "    async def _arun(self, *args, **kwargs):\n",
    "        raise NotImplementedError(\"Async not supported\")\n",
    "\n",
    "# Step 3: Initialize the Agent\n",
    "tools = [QuizGeneratorTool(), QuizEvaluatorTool()]\n",
    "agent = initialize_agent(tools, llm, agent=\"zero-shot-react-description\", verbose=True)\n",
    "\n",
    "# Step 4: Main Function\n",
    "def main():\n",
    "    print(\"Welcome to the Agentic Quiz Generator!\")\n",
    "    topic = input(\"Enter a topic you're interested in: \")\n",
    "    num_questions = int(input(\"How many questions would you like? \"))\n",
    "\n",
    "    # Generate the quiz\n",
    "    quiz = agent.run(f\"Generate a quiz about {topic} with {num_questions} questions using the Quiz Generator tool.\")\n",
    "    print(\"\\nQuiz Generated! Let's begin.\\n\")\n",
    "\n",
    "    # Take the quiz\n",
    "    user_answers = []\n",
    "    for i, q in enumerate(quiz):\n",
    "        print(f\"Question {i+1}: {q['question']}\")\n",
    "        for j, option in enumerate(q['options']):\n",
    "            print(f\"{j+1}. {option}\")\n",
    "        answer = int(input(\"Your answer (1-4): \"))\n",
    "        user_answers.append(answer)\n",
    "\n",
    "    # Evaluate the quiz\n",
    "    result = agent.run(f\"Evaluate the quiz with the following user answers: {user_answers} using the Quiz Evaluator tool.\")\n",
    "    print(\"\\nQuiz Results:\")\n",
    "    print(f\"Your score: {result['score']}/{len(quiz)}\")\n",
    "    for feedback in result['feedback']:\n",
    "        print(feedback)"
   ]
  }
 ],
 "metadata": {
  "kernelspec": {
   "display_name": "base",
   "language": "python",
   "name": "python3"
  },
  "language_info": {
   "codemirror_mode": {
    "name": "ipython",
    "version": 3
   },
   "file_extension": ".py",
   "mimetype": "text/x-python",
   "name": "python",
   "nbconvert_exporter": "python",
   "pygments_lexer": "ipython3",
   "version": "3.12.4"
  }
 },
 "nbformat": 4,
 "nbformat_minor": 2
}
